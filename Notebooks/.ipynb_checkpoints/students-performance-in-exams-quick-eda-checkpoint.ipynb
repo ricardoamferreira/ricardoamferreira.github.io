{
 "cells": [
  {
   "cell_type": "markdown",
   "metadata": {},
   "source": [
    "# Students Performance in Exames\n",
    "#### Marks secured by the students in various subjects\n",
    "\n",
    "\n",
    "\n",
    "## Inspiration\n",
    "#### To understand the influence of various factors like economic, personal and social on the students performance"
   ]
  },
  {
   "cell_type": "markdown",
   "metadata": {},
   "source": [
    "Necessary modules"
   ]
  },
  {
   "cell_type": "code",
   "execution_count": 1,
   "metadata": {
    "scrolled": true
   },
   "outputs": [],
   "source": [
    "import numpy as np\n",
    "import pandas as pd\n",
    "import seaborn as sns\n",
    "import matplotlib.pyplot as plt\n",
    "import statsmodels.api as sm\n",
    "from statsmodels.stats.multicomp import pairwise_tukeyhsd, MultiComparison\n",
    "from statsmodels.formula.api import ols"
   ]
  },
  {
   "cell_type": "markdown",
   "metadata": {},
   "source": [
    "Reading the data from the file"
   ]
  },
  {
   "cell_type": "code",
   "execution_count": 2,
   "metadata": {
    "_cell_guid": "79c7e3d0-c299-4dcb-8224-4455121ee9b0",
    "_uuid": "d629ff2d2480ee46fbb7e2d37f6b5fab8052498a",
    "scrolled": true
   },
   "outputs": [],
   "source": [
    "df = pd.read_csv(\"../Datasets/StudentsPerformance/StudentsPerformance.csv\")"
   ]
  },
  {
   "cell_type": "markdown",
   "metadata": {},
   "source": [
    "Let us look at the data"
   ]
  },
  {
   "cell_type": "code",
   "execution_count": 3,
   "metadata": {
    "scrolled": true
   },
   "outputs": [
    {
     "data": {
      "text/html": [
       "<div>\n",
       "<style scoped>\n",
       "    .dataframe tbody tr th:only-of-type {\n",
       "        vertical-align: middle;\n",
       "    }\n",
       "\n",
       "    .dataframe tbody tr th {\n",
       "        vertical-align: top;\n",
       "    }\n",
       "\n",
       "    .dataframe thead th {\n",
       "        text-align: right;\n",
       "    }\n",
       "</style>\n",
       "<table border=\"1\" class=\"dataframe\">\n",
       "  <thead>\n",
       "    <tr style=\"text-align: right;\">\n",
       "      <th></th>\n",
       "      <th>gender</th>\n",
       "      <th>race/ethnicity</th>\n",
       "      <th>parental level of education</th>\n",
       "      <th>lunch</th>\n",
       "      <th>test preparation course</th>\n",
       "      <th>math score</th>\n",
       "      <th>reading score</th>\n",
       "      <th>writing score</th>\n",
       "    </tr>\n",
       "  </thead>\n",
       "  <tbody>\n",
       "    <tr>\n",
       "      <th>0</th>\n",
       "      <td>female</td>\n",
       "      <td>group B</td>\n",
       "      <td>bachelor's degree</td>\n",
       "      <td>standard</td>\n",
       "      <td>none</td>\n",
       "      <td>72</td>\n",
       "      <td>72</td>\n",
       "      <td>74</td>\n",
       "    </tr>\n",
       "    <tr>\n",
       "      <th>1</th>\n",
       "      <td>female</td>\n",
       "      <td>group C</td>\n",
       "      <td>some college</td>\n",
       "      <td>standard</td>\n",
       "      <td>completed</td>\n",
       "      <td>69</td>\n",
       "      <td>90</td>\n",
       "      <td>88</td>\n",
       "    </tr>\n",
       "    <tr>\n",
       "      <th>2</th>\n",
       "      <td>female</td>\n",
       "      <td>group B</td>\n",
       "      <td>master's degree</td>\n",
       "      <td>standard</td>\n",
       "      <td>none</td>\n",
       "      <td>90</td>\n",
       "      <td>95</td>\n",
       "      <td>93</td>\n",
       "    </tr>\n",
       "    <tr>\n",
       "      <th>3</th>\n",
       "      <td>male</td>\n",
       "      <td>group A</td>\n",
       "      <td>associate's degree</td>\n",
       "      <td>free/reduced</td>\n",
       "      <td>none</td>\n",
       "      <td>47</td>\n",
       "      <td>57</td>\n",
       "      <td>44</td>\n",
       "    </tr>\n",
       "    <tr>\n",
       "      <th>4</th>\n",
       "      <td>male</td>\n",
       "      <td>group C</td>\n",
       "      <td>some college</td>\n",
       "      <td>standard</td>\n",
       "      <td>none</td>\n",
       "      <td>76</td>\n",
       "      <td>78</td>\n",
       "      <td>75</td>\n",
       "    </tr>\n",
       "  </tbody>\n",
       "</table>\n",
       "</div>"
      ],
      "text/plain": [
       "   gender race/ethnicity parental level of education         lunch  \\\n",
       "0  female        group B           bachelor's degree      standard   \n",
       "1  female        group C                some college      standard   \n",
       "2  female        group B             master's degree      standard   \n",
       "3    male        group A          associate's degree  free/reduced   \n",
       "4    male        group C                some college      standard   \n",
       "\n",
       "  test preparation course  math score  reading score  writing score  \n",
       "0                    none          72             72             74  \n",
       "1               completed          69             90             88  \n",
       "2                    none          90             95             93  \n",
       "3                    none          47             57             44  \n",
       "4                    none          76             78             75  "
      ]
     },
     "execution_count": 3,
     "metadata": {},
     "output_type": "execute_result"
    }
   ],
   "source": [
    "df.head()"
   ]
  },
  {
   "cell_type": "markdown",
   "metadata": {},
   "source": [
    "Dataset size"
   ]
  },
  {
   "cell_type": "code",
   "execution_count": 4,
   "metadata": {
    "scrolled": true
   },
   "outputs": [
    {
     "data": {
      "text/plain": [
       "(1000, 8)"
      ]
     },
     "execution_count": 4,
     "metadata": {},
     "output_type": "execute_result"
    }
   ],
   "source": [
    "df.shape"
   ]
  },
  {
   "cell_type": "markdown",
   "metadata": {},
   "source": [
    "Let's remove spaces from columns names"
   ]
  },
  {
   "cell_type": "code",
   "execution_count": 5,
   "metadata": {
    "scrolled": true
   },
   "outputs": [],
   "source": [
    "df.columns = df.columns.str.replace(\" \", \"_\")"
   ]
  },
  {
   "cell_type": "markdown",
   "metadata": {},
   "source": [
    "Some information on the data"
   ]
  },
  {
   "cell_type": "code",
   "execution_count": 6,
   "metadata": {
    "scrolled": true
   },
   "outputs": [
    {
     "data": {
      "text/html": [
       "<div>\n",
       "<style scoped>\n",
       "    .dataframe tbody tr th:only-of-type {\n",
       "        vertical-align: middle;\n",
       "    }\n",
       "\n",
       "    .dataframe tbody tr th {\n",
       "        vertical-align: top;\n",
       "    }\n",
       "\n",
       "    .dataframe thead th {\n",
       "        text-align: right;\n",
       "    }\n",
       "</style>\n",
       "<table border=\"1\" class=\"dataframe\">\n",
       "  <thead>\n",
       "    <tr style=\"text-align: right;\">\n",
       "      <th></th>\n",
       "      <th>gender</th>\n",
       "      <th>race/ethnicity</th>\n",
       "      <th>parental_level_of_education</th>\n",
       "      <th>lunch</th>\n",
       "      <th>test_preparation_course</th>\n",
       "      <th>math_score</th>\n",
       "      <th>reading_score</th>\n",
       "      <th>writing_score</th>\n",
       "    </tr>\n",
       "  </thead>\n",
       "  <tbody>\n",
       "    <tr>\n",
       "      <th>count</th>\n",
       "      <td>1000</td>\n",
       "      <td>1000</td>\n",
       "      <td>1000</td>\n",
       "      <td>1000</td>\n",
       "      <td>1000</td>\n",
       "      <td>1000.00000</td>\n",
       "      <td>1000.000000</td>\n",
       "      <td>1000.000000</td>\n",
       "    </tr>\n",
       "    <tr>\n",
       "      <th>unique</th>\n",
       "      <td>2</td>\n",
       "      <td>5</td>\n",
       "      <td>6</td>\n",
       "      <td>2</td>\n",
       "      <td>2</td>\n",
       "      <td>NaN</td>\n",
       "      <td>NaN</td>\n",
       "      <td>NaN</td>\n",
       "    </tr>\n",
       "    <tr>\n",
       "      <th>top</th>\n",
       "      <td>female</td>\n",
       "      <td>group C</td>\n",
       "      <td>some college</td>\n",
       "      <td>standard</td>\n",
       "      <td>none</td>\n",
       "      <td>NaN</td>\n",
       "      <td>NaN</td>\n",
       "      <td>NaN</td>\n",
       "    </tr>\n",
       "    <tr>\n",
       "      <th>freq</th>\n",
       "      <td>518</td>\n",
       "      <td>319</td>\n",
       "      <td>226</td>\n",
       "      <td>645</td>\n",
       "      <td>642</td>\n",
       "      <td>NaN</td>\n",
       "      <td>NaN</td>\n",
       "      <td>NaN</td>\n",
       "    </tr>\n",
       "    <tr>\n",
       "      <th>mean</th>\n",
       "      <td>NaN</td>\n",
       "      <td>NaN</td>\n",
       "      <td>NaN</td>\n",
       "      <td>NaN</td>\n",
       "      <td>NaN</td>\n",
       "      <td>66.08900</td>\n",
       "      <td>69.169000</td>\n",
       "      <td>68.054000</td>\n",
       "    </tr>\n",
       "    <tr>\n",
       "      <th>std</th>\n",
       "      <td>NaN</td>\n",
       "      <td>NaN</td>\n",
       "      <td>NaN</td>\n",
       "      <td>NaN</td>\n",
       "      <td>NaN</td>\n",
       "      <td>15.16308</td>\n",
       "      <td>14.600192</td>\n",
       "      <td>15.195657</td>\n",
       "    </tr>\n",
       "    <tr>\n",
       "      <th>min</th>\n",
       "      <td>NaN</td>\n",
       "      <td>NaN</td>\n",
       "      <td>NaN</td>\n",
       "      <td>NaN</td>\n",
       "      <td>NaN</td>\n",
       "      <td>0.00000</td>\n",
       "      <td>17.000000</td>\n",
       "      <td>10.000000</td>\n",
       "    </tr>\n",
       "    <tr>\n",
       "      <th>25%</th>\n",
       "      <td>NaN</td>\n",
       "      <td>NaN</td>\n",
       "      <td>NaN</td>\n",
       "      <td>NaN</td>\n",
       "      <td>NaN</td>\n",
       "      <td>57.00000</td>\n",
       "      <td>59.000000</td>\n",
       "      <td>57.750000</td>\n",
       "    </tr>\n",
       "    <tr>\n",
       "      <th>50%</th>\n",
       "      <td>NaN</td>\n",
       "      <td>NaN</td>\n",
       "      <td>NaN</td>\n",
       "      <td>NaN</td>\n",
       "      <td>NaN</td>\n",
       "      <td>66.00000</td>\n",
       "      <td>70.000000</td>\n",
       "      <td>69.000000</td>\n",
       "    </tr>\n",
       "    <tr>\n",
       "      <th>75%</th>\n",
       "      <td>NaN</td>\n",
       "      <td>NaN</td>\n",
       "      <td>NaN</td>\n",
       "      <td>NaN</td>\n",
       "      <td>NaN</td>\n",
       "      <td>77.00000</td>\n",
       "      <td>79.000000</td>\n",
       "      <td>79.000000</td>\n",
       "    </tr>\n",
       "    <tr>\n",
       "      <th>max</th>\n",
       "      <td>NaN</td>\n",
       "      <td>NaN</td>\n",
       "      <td>NaN</td>\n",
       "      <td>NaN</td>\n",
       "      <td>NaN</td>\n",
       "      <td>100.00000</td>\n",
       "      <td>100.000000</td>\n",
       "      <td>100.000000</td>\n",
       "    </tr>\n",
       "  </tbody>\n",
       "</table>\n",
       "</div>"
      ],
      "text/plain": [
       "        gender race/ethnicity parental_level_of_education     lunch  \\\n",
       "count     1000           1000                        1000      1000   \n",
       "unique       2              5                           6         2   \n",
       "top     female        group C                some college  standard   \n",
       "freq       518            319                         226       645   \n",
       "mean       NaN            NaN                         NaN       NaN   \n",
       "std        NaN            NaN                         NaN       NaN   \n",
       "min        NaN            NaN                         NaN       NaN   \n",
       "25%        NaN            NaN                         NaN       NaN   \n",
       "50%        NaN            NaN                         NaN       NaN   \n",
       "75%        NaN            NaN                         NaN       NaN   \n",
       "max        NaN            NaN                         NaN       NaN   \n",
       "\n",
       "       test_preparation_course  math_score  reading_score  writing_score  \n",
       "count                     1000  1000.00000    1000.000000    1000.000000  \n",
       "unique                       2         NaN            NaN            NaN  \n",
       "top                       none         NaN            NaN            NaN  \n",
       "freq                       642         NaN            NaN            NaN  \n",
       "mean                       NaN    66.08900      69.169000      68.054000  \n",
       "std                        NaN    15.16308      14.600192      15.195657  \n",
       "min                        NaN     0.00000      17.000000      10.000000  \n",
       "25%                        NaN    57.00000      59.000000      57.750000  \n",
       "50%                        NaN    66.00000      70.000000      69.000000  \n",
       "75%                        NaN    77.00000      79.000000      79.000000  \n",
       "max                        NaN   100.00000     100.000000     100.000000  "
      ]
     },
     "execution_count": 6,
     "metadata": {},
     "output_type": "execute_result"
    }
   ],
   "source": [
    "df.describe(include=\"all\")"
   ]
  },
  {
   "cell_type": "markdown",
   "metadata": {},
   "source": [
    "Checking if there are some null values"
   ]
  },
  {
   "cell_type": "code",
   "execution_count": 7,
   "metadata": {
    "scrolled": true
   },
   "outputs": [
    {
     "data": {
      "text/plain": [
       "gender                         0\n",
       "race/ethnicity                 0\n",
       "parental_level_of_education    0\n",
       "lunch                          0\n",
       "test_preparation_course        0\n",
       "math_score                     0\n",
       "reading_score                  0\n",
       "writing_score                  0\n",
       "dtype: int64"
      ]
     },
     "execution_count": 7,
     "metadata": {},
     "output_type": "execute_result"
    }
   ],
   "source": [
    "df.isnull().sum()"
   ]
  },
  {
   "cell_type": "code",
   "execution_count": 8,
   "metadata": {
    "scrolled": true
   },
   "outputs": [
    {
     "data": {
      "text/plain": [
       "Text(0.5, 0.98, 'Distribution of exam scores')"
      ]
     },
     "execution_count": 8,
     "metadata": {},
     "output_type": "execute_result"
    },
    {
     "data": {
      "image/png": "[encoded data removed]",
      "text/plain": [
       "<Figure size 1152x360 with 3 Axes>"
      ]
     },
     "metadata": {
      "needs_background": "light"
     },
     "output_type": "display_data"
    }
   ],
   "source": [
    "fig, axs = plt.subplots(1, 3, figsize=(16, 5), sharey=True)\n",
    "axs[0].hist(df[\"math_score\"], bins=20)\n",
    "axs[0].set_title(\"Math score\")\n",
    "axs[1].hist(df[\"reading_score\"], bins=20)\n",
    "axs[1].set_title(\"Reading score\")\n",
    "axs[2].hist(df[\"writing_score\"], bins=20)\n",
    "axs[2].set_title(\"Writing score\")\n",
    "fig.suptitle(\"Distribution of exam scores\")"
   ]
  },
  {
   "cell_type": "code",
   "execution_count": 9,
   "metadata": {
    "scrolled": true
   },
   "outputs": [
    {
     "data": {
      "text/plain": [
       "<seaborn.axisgrid.PairGrid at 0x1e8ca9fe940>"
      ]
     },
     "execution_count": 9,
     "metadata": {},
     "output_type": "execute_result"
    },
    {
     "data": {
      "image/png": "[encoded data removed]",
      "text/plain": [
       "<Figure size 540x540 with 12 Axes>"
      ]
     },
     "metadata": {
      "needs_background": "light"
     },
     "output_type": "display_data"
    }
   ],
   "source": [
    "sns.pairplot(df)"
   ]
  },
  {
   "cell_type": "markdown",
   "metadata": {},
   "source": [
    "As we can see, most of the scores seem correlated, but score for writing and reading seem to present the biggest correlation.<br>\n",
    "Let us check this."
   ]
  },
  {
   "cell_type": "code",
   "execution_count": 10,
   "metadata": {
    "scrolled": true
   },
   "outputs": [
    {
     "data": {
      "text/html": [
       "<div>\n",
       "<style scoped>\n",
       "    .dataframe tbody tr th:only-of-type {\n",
       "        vertical-align: middle;\n",
       "    }\n",
       "\n",
       "    .dataframe tbody tr th {\n",
       "        vertical-align: top;\n",
       "    }\n",
       "\n",
       "    .dataframe thead th {\n",
       "        text-align: right;\n",
       "    }\n",
       "</style>\n",
       "<table border=\"1\" class=\"dataframe\">\n",
       "  <thead>\n",
       "    <tr style=\"text-align: right;\">\n",
       "      <th></th>\n",
       "      <th>math_score</th>\n",
       "      <th>reading_score</th>\n",
       "      <th>writing_score</th>\n",
       "    </tr>\n",
       "  </thead>\n",
       "  <tbody>\n",
       "    <tr>\n",
       "      <th>math_score</th>\n",
       "      <td>1.000000</td>\n",
       "      <td>0.817580</td>\n",
       "      <td>0.802642</td>\n",
       "    </tr>\n",
       "    <tr>\n",
       "      <th>reading_score</th>\n",
       "      <td>0.817580</td>\n",
       "      <td>1.000000</td>\n",
       "      <td>0.954598</td>\n",
       "    </tr>\n",
       "    <tr>\n",
       "      <th>writing_score</th>\n",
       "      <td>0.802642</td>\n",
       "      <td>0.954598</td>\n",
       "      <td>1.000000</td>\n",
       "    </tr>\n",
       "  </tbody>\n",
       "</table>\n",
       "</div>"
      ],
      "text/plain": [
       "               math_score  reading_score  writing_score\n",
       "math_score       1.000000       0.817580       0.802642\n",
       "reading_score    0.817580       1.000000       0.954598\n",
       "writing_score    0.802642       0.954598       1.000000"
      ]
     },
     "execution_count": 10,
     "metadata": {},
     "output_type": "execute_result"
    }
   ],
   "source": [
    "df.corr()"
   ]
  },
  {
   "cell_type": "markdown",
   "metadata": {},
   "source": [
    "This results support our previous theory with the biggest correlation scores between reading and writing.\n",
    "\n",
    "Let us check the distribution in the categorical features."
   ]
  },
  {
   "cell_type": "code",
   "execution_count": 11,
   "metadata": {
    "scrolled": true
   },
   "outputs": [
    {
     "data": {
      "text/plain": [
       "<matplotlib.axes._subplots.AxesSubplot at 0x1e8cb11ce10>"
      ]
     },
     "execution_count": 11,
     "metadata": {},
     "output_type": "execute_result"
    },
    {
     "data": {
      "image/png": "[encoded data removed]",
      "text/plain": [
       "<Figure size 1152x360 with 5 Axes>"
      ]
     },
     "metadata": {
      "needs_background": "light"
     },
     "output_type": "display_data"
    }
   ],
   "source": [
    "fig, axs = plt.subplots(1, 5, figsize=(16, 5), sharey=True)\n",
    "sns.countplot(df.gender, ax = axs[0])\n",
    "ax0 = sns.countplot(df[\"race/ethnicity\"], ax = axs[1])\n",
    "ax0.set_xticklabels(ax0.get_xticklabels(), rotation=90)\n",
    "ax1 = sns.countplot(df[\"parental_level_of_education\"], ax = axs[2])\n",
    "ax1.set_xticklabels(ax1.get_xticklabels(), rotation=90)\n",
    "sns.countplot(df.lunch, ax = axs[3])\n",
    "sns.countplot(df[\"test_preparation_course\"], ax = axs[4])"
   ]
  },
  {
   "cell_type": "markdown",
   "metadata": {},
   "source": [
    "Let us see if there is some statistically significantly difference between these groups using 95% confident interval and the null hypothesis being that there is no difference between the groups when comparing scores.\n",
    "\n",
    "### Gender"
   ]
  },
  {
   "cell_type": "code",
   "execution_count": 12,
   "metadata": {
    "scrolled": true
   },
   "outputs": [
    {
     "name": "stdout",
     "output_type": "stream",
     "text": [
      "\n",
      "Math Scores\n",
      "                 sum_sq     df          F        PR(>F)\n",
      "gender      6481.373854    1.0  28.979336  9.120186e-08\n",
      "Residual  223207.705146  998.0        NaN           NaN\n",
      "\n",
      "Reading Scores\n",
      "                 sum_sq     df          F        PR(>F)\n",
      "gender     12710.843676    1.0  63.350584  4.680539e-15\n",
      "Residual  200241.595324  998.0        NaN           NaN\n",
      "\n",
      "Writing Scores\n",
      "                 sum_sq     df          F        PR(>F)\n",
      "gender     20930.822413    1.0  99.591576  2.019878e-22\n",
      "Residual  209746.261587  998.0        NaN           NaN\n"
     ]
    }
   ],
   "source": [
    "mod = ols(\"math_score ~ gender\", data=df).fit()\n",
    "aov_table = sm.stats.anova_lm(mod, typ=2)\n",
    "print()\n",
    "print(\"Math Scores\")\n",
    "print(aov_table)\n",
    "\n",
    "mod = ols(\"reading_score ~ gender\", data=df).fit()\n",
    "aov_table = sm.stats.anova_lm(mod, typ=2)\n",
    "print()\n",
    "print(\"Reading Scores\")\n",
    "print(aov_table)\n",
    "\n",
    "mod = ols(\"writing_score ~ gender\", data=df).fit()\n",
    "aov_table = sm.stats.anova_lm(mod, typ=2)\n",
    "print()\n",
    "print(\"Writing Scores\")\n",
    "print(aov_table)"
   ]
  },
  {
   "cell_type": "markdown",
   "metadata": {},
   "source": [
    "As we can see, in the case of gender, the null hypothesis should be rejected in all the exams and, as such, there is a statistically significantly difference between the groups for all of them"
   ]
  },
  {
   "cell_type": "code",
   "execution_count": 13,
   "metadata": {
    "scrolled": true
   },
   "outputs": [
    {
     "data": {
      "text/plain": [
       "<matplotlib.axes._subplots.AxesSubplot at 0x1e8cb25be48>"
      ]
     },
     "execution_count": 13,
     "metadata": {},
     "output_type": "execute_result"
    },
    {
     "data": {
      "image/png": "[encoded data removed]",
      "text/plain": [
       "<Figure size 1080x432 with 3 Axes>"
      ]
     },
     "metadata": {
      "needs_background": "light"
     },
     "output_type": "display_data"
    }
   ],
   "source": [
    "fig, axs = plt.subplots(1, 3, figsize=(15, 6), sharey=True)\n",
    "sns.barplot(x='gender',y='math_score',data=df, ax=axs[0])\n",
    "sns.barplot(x='gender',y='reading_score',data=df, ax=axs[1])\n",
    "sns.barplot(x='gender',y='writing_score',data=df, ax=axs[2])"
   ]
  },
  {
   "cell_type": "markdown",
   "metadata": {},
   "source": [
    "As we can see there is a difference in scores when separating the students in female and male. In the math exame, the male students performed better, but in both reading and writing exams it was the female students that out-performed the other students."
   ]
  },
  {
   "cell_type": "markdown",
   "metadata": {},
   "source": [
    "#### Race/ethnicity"
   ]
  },
  {
   "cell_type": "code",
   "execution_count": 14,
   "metadata": {
    "scrolled": true
   },
   "outputs": [
    {
     "name": "stdout",
     "output_type": "stream",
     "text": [
      "\n",
      "Math Scores\n",
      " Multiple Comparison of Means - Tukey HSD, FWER=0.05  \n",
      "======================================================\n",
      " group1  group2 meandiff p-adj   lower   upper  reject\n",
      "------------------------------------------------------\n",
      "group A group B   1.8234 0.8597   -3.36  7.0068  False\n",
      "group A group C   2.8347 0.4966 -2.0028  7.6723  False\n",
      "group A group D   5.7334 0.0138  0.7824 10.6844   True\n",
      "group A group E  12.1922  0.001  6.7215 17.6629   True\n",
      "group B group C   1.0113    0.9 -2.6867  4.7094  False\n",
      "group B group D     3.91 0.0441  0.0647  7.7552   True\n",
      "group B group E  10.3688  0.001  5.8741 14.8635   True\n",
      "group C group D   2.8986 0.1287 -0.4659  6.2632  False\n",
      "group C group E   9.3575  0.001  5.2665 13.4485   True\n",
      "group D group E   6.4588  0.001  2.2343 10.6834   True\n",
      "------------------------------------------------------\n",
      "\n",
      "Reading Scores\n",
      " Multiple Comparison of Means - Tukey HSD, FWER=0.05  \n",
      "======================================================\n",
      " group1  group2 meandiff p-adj   lower   upper  reject\n",
      "------------------------------------------------------\n",
      "group A group B   2.6785 0.5875 -2.3998  7.7567  False\n",
      "group A group C   4.4293 0.0801 -0.3101  9.1687  False\n",
      "group A group D   5.3564 0.0219  0.5058 10.2069   True\n",
      "group A group E   8.3544  0.001  2.9947 13.7141   True\n",
      "group B group C   1.7508  0.656 -1.8722  5.3738  False\n",
      "group B group D   2.6779 0.2956 -1.0893  6.4451  False\n",
      "group B group E   5.6759 0.0041  1.2724 10.0794   True\n",
      "group C group D   0.9271    0.9 -2.3692  4.2234  False\n",
      "group C group E   3.9251 0.0583 -0.0829  7.9331  False\n",
      "group D group E    2.998 0.2768 -1.1408  7.1369  False\n",
      "------------------------------------------------------\n",
      "\n",
      "Writing Scores\n",
      " Multiple Comparison of Means - Tukey HSD, FWER=0.05  \n",
      "======================================================\n",
      " group1  group2 meandiff p-adj   lower   upper  reject\n",
      "------------------------------------------------------\n",
      "group A group B   2.9258 0.5444 -2.3436  8.1953  False\n",
      "group A group C   5.1534 0.0346  0.2356 10.0712   True\n",
      "group A group D   7.4709  0.001  2.4377  12.504   True\n",
      "group A group E    8.733  0.001  3.1715 14.2945   True\n",
      "group B group C   2.2276 0.4857 -1.5318   5.987  False\n",
      "group B group D    4.545 0.0133   0.636  8.4541   True\n",
      "group B group E   5.8071 0.0049  1.2379 10.3764   True\n",
      "group C group D   2.3175 0.3448 -1.1029  5.7378  False\n",
      "group C group E   3.5796 0.1294 -0.5793  7.7385  False\n",
      "group D group E   1.2621    0.9 -3.0326  5.5568  False\n",
      "------------------------------------------------------\n"
     ]
    }
   ],
   "source": [
    "mc = MultiComparison(df['math_score'], df['race/ethnicity'])\n",
    "mc_results = mc.tukeyhsd()\n",
    "print()\n",
    "print(\"Math Scores\")\n",
    "print(mc_results)\n",
    "mr = MultiComparison(df['reading_score'], df['race/ethnicity'])\n",
    "mr_results = mr.tukeyhsd()\n",
    "print()\n",
    "print(\"Reading Scores\")\n",
    "print(mr_results)\n",
    "mw = MultiComparison(df['writing_score'], df['race/ethnicity'])\n",
    "mw_results = mw.tukeyhsd()\n",
    "print()\n",
    "print(\"Writing Scores\")\n",
    "print(mw_results)"
   ]
  },
  {
   "cell_type": "markdown",
   "metadata": {},
   "source": [
    "As we can see there are some rejections of the hull hypothesis. Mainly envolving group D and E, with the biggest meandiff between groups being between group A and group E."
   ]
  },
  {
   "cell_type": "code",
   "execution_count": 15,
   "metadata": {
    "scrolled": true
   },
   "outputs": [
    {
     "data": {
      "text/plain": [
       "<matplotlib.axes._subplots.AxesSubplot at 0x1e8cb7e9d68>"
      ]
     },
     "execution_count": 15,
     "metadata": {},
     "output_type": "execute_result"
    },
    {
     "data": {
      "image/png": "[encoded data removed]",
      "text/plain": [
       "<Figure size 1080x432 with 3 Axes>"
      ]
     },
     "metadata": {
      "needs_background": "light"
     },
     "output_type": "display_data"
    }
   ],
   "source": [
    "fig, axs = plt.subplots(1, 3, figsize=(15, 6), sharey=True)\n",
    "sns.barplot(x='race/ethnicity',y='math_score',data=df, ax=axs[0])\n",
    "sns.barplot(x='race/ethnicity',y='reading_score',data=df, ax=axs[1])\n",
    "sns.barplot(x='race/ethnicity',y='writing_score',data=df, ax=axs[2])"
   ]
  },
  {
   "cell_type": "markdown",
   "metadata": {},
   "source": [
    "This difference can also be seen in the barplot with the difference between group A and E being significant across the board."
   ]
  },
  {
   "cell_type": "markdown",
   "metadata": {},
   "source": [
    "#### Parental level of education"
   ]
  },
  {
   "cell_type": "code",
   "execution_count": 16,
   "metadata": {
    "scrolled": true
   },
   "outputs": [
    {
     "name": "stdout",
     "output_type": "stream",
     "text": [
      "\n",
      "Math Scores\n",
      "            Multiple Comparison of Means - Tukey HSD, FWER=0.05             \n",
      "============================================================================\n",
      "      group1             group2      meandiff p-adj   lower    upper  reject\n",
      "----------------------------------------------------------------------------\n",
      "associate's degree bachelor's degree   1.5069    0.9  -3.3586  6.3725  False\n",
      "associate's degree       high school  -5.7451 0.0013  -9.9311 -1.5592   True\n",
      "associate's degree   master's degree   1.8629    0.9  -4.3926  8.1184  False\n",
      "associate's degree      some college  -0.7546    0.9  -4.7903  3.2812  False\n",
      "associate's degree  some high school  -4.3857 0.0418  -8.6759 -0.0954   True\n",
      " bachelor's degree       high school  -7.2521  0.001 -12.2284 -2.2758   True\n",
      " bachelor's degree   master's degree   0.3559    0.9  -6.4538  7.1657  False\n",
      " bachelor's degree      some college  -2.2615 0.7401  -7.1121  2.5891  False\n",
      " bachelor's degree  some high school  -5.8926 0.0119  -10.957 -0.8283   True\n",
      "       high school   master's degree    7.608 0.0084    1.266   13.95   True\n",
      "       high school      some college   4.9906 0.0086    0.822  9.1591   True\n",
      "       high school  some high school   1.3595    0.9   -3.056  5.7749  False\n",
      "   master's degree      some college  -2.6174 0.8175  -8.8613  3.6264  False\n",
      "   master's degree  some high school  -6.2486 0.0612 -12.6599  0.1628  False\n",
      "      some college  some high school  -3.6311 0.1481  -7.9044  0.6422  False\n",
      "----------------------------------------------------------------------------\n",
      "\n",
      "Reading Scores\n",
      "            Multiple Comparison of Means - Tukey HSD, FWER=0.05             \n",
      "============================================================================\n",
      "      group1             group2      meandiff p-adj   lower    upper  reject\n",
      "----------------------------------------------------------------------------\n",
      "associate's degree bachelor's degree   2.0721 0.7746  -2.5816  6.7258  False\n",
      "associate's degree       high school  -6.2238  0.001 -10.2275 -2.2202   True\n",
      "associate's degree   master's degree    4.445 0.2771  -1.5382 10.4281  False\n",
      "associate's degree      some college  -1.4678 0.8816  -5.3277  2.3922  False\n",
      "associate's degree  some high school  -3.9894 0.0623  -8.0928   0.114  False\n",
      " bachelor's degree       high school  -8.2959  0.001 -13.0555 -3.5363   True\n",
      " bachelor's degree   master's degree   2.3729    0.9  -4.1403  8.8861  False\n",
      " bachelor's degree      some college  -3.5398 0.2486  -8.1792  1.0996  False\n",
      " bachelor's degree  some high school  -6.0615  0.005 -10.9053 -1.2176   True\n",
      "       high school   master's degree  10.6688  0.001   4.6029 16.7347   True\n",
      "       high school      some college   4.7561 0.0089   0.7691  8.7431   True\n",
      "       high school  some high school   2.2345 0.6366  -1.9887  6.4576  False\n",
      "   master's degree      some college  -5.9127 0.0541 -11.8847  0.0593  False\n",
      "   master's degree  some high school  -8.4343 0.0013 -14.5665 -2.3022   True\n",
      "      some college  some high school  -2.5216 0.4914  -6.6088  1.5655  False\n",
      "----------------------------------------------------------------------------\n",
      "\n",
      "Writing Scores\n",
      "            Multiple Comparison of Means - Tukey HSD, FWER=0.05             \n",
      "============================================================================\n",
      "      group1             group2      meandiff p-adj   lower    upper  reject\n",
      "----------------------------------------------------------------------------\n",
      "associate's degree bachelor's degree    3.485 0.2988  -1.2997  8.2696  False\n",
      "associate's degree       high school  -7.4474  0.001 -11.5637 -3.3311   True\n",
      "associate's degree   master's degree   5.7816 0.0797  -0.3699  11.933  False\n",
      "associate's degree      some college  -1.0557    0.9  -5.0243  2.9129  False\n",
      "associate's degree  some high school  -5.0081 0.0095   -9.227 -0.7893   True\n",
      " bachelor's degree       high school -10.9324  0.001 -15.8259 -6.0389   True\n",
      " bachelor's degree   master's degree   2.2966    0.9  -4.3998  8.9931  False\n",
      " bachelor's degree      some college  -4.5406 0.0728  -9.3105  0.2293  False\n",
      " bachelor's degree  some high school  -8.4931  0.001 -13.4732  -3.513   True\n",
      "       high school   master's degree   13.229  0.001   6.9925 19.4655   True\n",
      "       high school      some college   6.3917  0.001   2.2925 10.4909   True\n",
      "       high school  some high school   2.4393 0.5827  -1.9027  6.7813  False\n",
      "   master's degree      some college  -6.8373 0.0189 -12.9772 -0.6973   True\n",
      "   master's degree  some high school -10.7897  0.001 -17.0944  -4.485   True\n",
      "      some college  some high school  -3.9524 0.0792  -8.1546  0.2497  False\n",
      "----------------------------------------------------------------------------\n"
     ]
    }
   ],
   "source": [
    "mc = MultiComparison(df['math_score'], df['parental_level_of_education'])\n",
    "mc_results = mc.tukeyhsd()\n",
    "print()\n",
    "print(\"Math Scores\")\n",
    "print(mc_results)\n",
    "mr = MultiComparison(df['reading_score'], df['parental_level_of_education'])\n",
    "mr_results = mr.tukeyhsd()\n",
    "print()\n",
    "print(\"Reading Scores\")\n",
    "print(mr_results)\n",
    "mw = MultiComparison(df['writing_score'], df['parental_level_of_education'])\n",
    "mw_results = mw.tukeyhsd()\n",
    "print()\n",
    "print(\"Writing Scores\")\n",
    "print(mw_results)"
   ]
  },
  {
   "cell_type": "markdown",
   "metadata": {},
   "source": [
    "When comparing with the parental level of edutacion, most of the rejection of the null hypothesis comes from comparisons with \"high school\" and \"some high school\"."
   ]
  },
  {
   "cell_type": "code",
   "execution_count": 17,
   "metadata": {
    "scrolled": true
   },
   "outputs": [
    {
     "data": {
      "text/plain": [
       "[Text(0, 0, \"bachelor's degree\"),\n",
       " Text(0, 0, 'some college'),\n",
       " Text(0, 0, \"master's degree\"),\n",
       " Text(0, 0, \"associate's degree\"),\n",
       " Text(0, 0, 'high school'),\n",
       " Text(0, 0, 'some high school')]"
      ]
     },
     "execution_count": 17,
     "metadata": {},
     "output_type": "execute_result"
    },
    {
     "data": {
      "image/png": "[encoded data removed]",
      "text/plain": [
       "<Figure size 1080x432 with 3 Axes>"
      ]
     },
     "metadata": {
      "needs_background": "light"
     },
     "output_type": "display_data"
    }
   ],
   "source": [
    "fig, axs = plt.subplots(1, 3, figsize=(15, 6), sharey=True)\n",
    "a1 = sns.barplot(x='parental_level_of_education',y='math_score',data=df, ax=axs[0])\n",
    "a2 = sns.barplot(x='parental_level_of_education',y='reading_score',data=df, ax=axs[1])\n",
    "a3 = sns.barplot(x='parental_level_of_education',y='writing_score',data=df, ax=axs[2])\n",
    "a1.set_xticklabels(a1.get_xticklabels(), rotation=90)\n",
    "a2.set_xticklabels(a2.get_xticklabels(), rotation=90)\n",
    "a3.set_xticklabels(a3.get_xticklabels(), rotation=90)"
   ]
  },
  {
   "cell_type": "markdown",
   "metadata": {},
   "source": [
    "This can also be seen in the bar plot where the bars for these two groups are clearly lower than most for all scores."
   ]
  },
  {
   "cell_type": "markdown",
   "metadata": {},
   "source": [
    "#### Lunch"
   ]
  },
  {
   "cell_type": "code",
   "execution_count": 18,
   "metadata": {
    "scrolled": true
   },
   "outputs": [
    {
     "name": "stdout",
     "output_type": "stream",
     "text": [
      "\n",
      "Math Scores\n",
      "                 sum_sq     df           F        PR(>F)\n",
      "lunch      28278.037838    1.0  140.118842  2.413196e-30\n",
      "Residual  201411.041162  998.0         NaN           NaN\n",
      "\n",
      "Reading Scores\n",
      "                 sum_sq     df          F        PR(>F)\n",
      "lunch      11222.155126    1.0  55.518242  2.002797e-13\n",
      "Residual  201730.283874  998.0        NaN           NaN\n",
      "\n",
      "Writing Scores\n",
      "                 sum_sq     df          F        PR(>F)\n",
      "lunch      13933.413119    1.0  64.156643  3.186190e-15\n",
      "Residual  216743.670881  998.0        NaN           NaN\n"
     ]
    }
   ],
   "source": [
    "mod = ols(\"math_score ~ lunch\", data=df).fit()\n",
    "aov_table = sm.stats.anova_lm(mod, typ=2)\n",
    "print()\n",
    "print(\"Math Scores\")\n",
    "print(aov_table)\n",
    "\n",
    "mod = ols(\"reading_score ~ lunch\", data=df).fit()\n",
    "aov_table = sm.stats.anova_lm(mod, typ=2)\n",
    "print()\n",
    "print(\"Reading Scores\")\n",
    "print(aov_table)\n",
    "\n",
    "mod = ols(\"writing_score ~ lunch\", data=df).fit()\n",
    "aov_table = sm.stats.anova_lm(mod, typ=2)\n",
    "print()\n",
    "print(\"Writing Scores\")\n",
    "print(aov_table)"
   ]
  },
  {
   "cell_type": "code",
   "execution_count": 19,
   "metadata": {
    "scrolled": true
   },
   "outputs": [
    {
     "data": {
      "text/plain": [
       "<matplotlib.axes._subplots.AxesSubplot at 0x1e8cbc22358>"
      ]
     },
     "execution_count": 19,
     "metadata": {},
     "output_type": "execute_result"
    },
    {
     "data": {
      "image/png": "[encoded data removed]",
      "text/plain": [
       "<Figure size 1080x432 with 3 Axes>"
      ]
     },
     "metadata": {
      "needs_background": "light"
     },
     "output_type": "display_data"
    }
   ],
   "source": [
    "fig, axs = plt.subplots(1, 3, figsize=(15, 6), sharey=True)\n",
    "sns.barplot(x='lunch',y='math_score',data=df, ax=axs[0])\n",
    "sns.barplot(x='lunch',y='reading_score',data=df, ax=axs[1])\n",
    "sns.barplot(x='lunch',y='writing_score',data=df, ax=axs[2])"
   ]
  },
  {
   "cell_type": "markdown",
   "metadata": {},
   "source": [
    "As it is possible to see, also when comparing lunch costs, the students with \"free/reduced\" cost performed worse than the others."
   ]
  },
  {
   "cell_type": "markdown",
   "metadata": {},
   "source": [
    "#### Test preparation course"
   ]
  },
  {
   "cell_type": "code",
   "execution_count": 20,
   "metadata": {
    "scrolled": true
   },
   "outputs": [
    {
     "name": "stdout",
     "output_type": "stream",
     "text": [
      "\n",
      "Math Scores\n",
      "                                sum_sq     df          F        PR(>F)\n",
      "test_preparation_course    7253.160232    1.0  32.542648  1.535913e-08\n",
      "Residual                 222435.918768  998.0        NaN           NaN\n",
      "\n",
      "Reading Scores\n",
      "                                sum_sq     df          F        PR(>F)\n",
      "test_preparation_course   12448.726414    1.0  61.963087  9.081783e-15\n",
      "Residual                 200503.712586  998.0        NaN           NaN\n",
      "\n",
      "Writing Scores\n",
      "                                sum_sq     df           F        PR(>F)\n",
      "test_preparation_course   22591.447181    1.0  108.350892  3.685292e-24\n",
      "Residual                 208085.636819  998.0         NaN           NaN\n"
     ]
    }
   ],
   "source": [
    "mod = ols(\"math_score ~ test_preparation_course\", data=df).fit()\n",
    "aov_table = sm.stats.anova_lm(mod, typ=2)\n",
    "print()\n",
    "print(\"Math Scores\")\n",
    "print(aov_table)\n",
    "\n",
    "mod = ols(\"reading_score ~ test_preparation_course\", data=df).fit()\n",
    "aov_table = sm.stats.anova_lm(mod, typ=2)\n",
    "print()\n",
    "print(\"Reading Scores\")\n",
    "print(aov_table)\n",
    "\n",
    "mod = ols(\"writing_score ~ test_preparation_course\", data=df).fit()\n",
    "aov_table = sm.stats.anova_lm(mod, typ=2)\n",
    "print()\n",
    "print(\"Writing Scores\")\n",
    "print(aov_table)"
   ]
  },
  {
   "cell_type": "code",
   "execution_count": 21,
   "metadata": {
    "scrolled": true
   },
   "outputs": [
    {
     "data": {
      "text/plain": [
       "<matplotlib.axes._subplots.AxesSubplot at 0x1e8cd148860>"
      ]
     },
     "execution_count": 21,
     "metadata": {},
     "output_type": "execute_result"
    },
    {
     "data": {
      "image/png": "[encoded data removed]",
      "text/plain": [
       "<Figure size 1080x432 with 3 Axes>"
      ]
     },
     "metadata": {
      "needs_background": "light"
     },
     "output_type": "display_data"
    }
   ],
   "source": [
    "fig, axs = plt.subplots(1, 3, figsize=(15, 6), sharey=True)\n",
    "sns.barplot(x='test_preparation_course',y='math_score',data=df, ax=axs[0])\n",
    "sns.barplot(x='test_preparation_course',y='reading_score',data=df, ax=axs[1])\n",
    "sns.barplot(x='test_preparation_course',y='writing_score',data=df, ax=axs[2])"
   ]
  },
  {
   "cell_type": "markdown",
   "metadata": {},
   "source": [
    "As it is possible to see, students whom completed the test preparation course also performed better in all the exams."
   ]
  }
 ],
 "metadata": {
  "kernelspec": {
   "display_name": "Python 3",
   "language": "python",
   "name": "python3"
  },
  "language_info": {
   "codemirror_mode": {
    "name": "ipython",
    "version": 3
   },
   "file_extension": ".py",
   "mimetype": "text/x-python",
   "name": "python",
   "nbconvert_exporter": "python",
   "pygments_lexer": "ipython3",
   "version": "3.6.8"
  }
 },
 "nbformat": 4,
 "nbformat_minor": 4
}
